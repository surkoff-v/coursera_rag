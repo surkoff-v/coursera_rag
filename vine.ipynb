{
 "cells": [
  {
   "cell_type": "code",
   "id": "initial_id",
   "metadata": {
    "collapsed": true,
    "ExecuteTime": {
     "end_time": "2025-02-26T19:59:44.923977Z",
     "start_time": "2025-02-26T19:59:44.912446Z"
    }
   },
   "source": [
    "import pandas as pd\n",
    "from scipy.fft import idctn\n",
    "\n",
    "df = pd.read_csv('top_rated_wines.csv')\n",
    "df = df[df['variety'].notna()]\n",
    "data = df.to_dict('records')\n",
    "\n"
   ],
   "outputs": [],
   "execution_count": 17
  },
  {
   "metadata": {
    "ExecuteTime": {
     "end_time": "2025-02-26T19:59:47.430244Z",
     "start_time": "2025-02-26T19:59:47.427453Z"
    }
   },
   "cell_type": "code",
   "source": [
    "from sentence_transformers import SentenceTransformer\n",
    "from qdrant_client import QdrantClient, models"
   ],
   "id": "2bedfd266a5723ad",
   "outputs": [],
   "execution_count": 18
  },
  {
   "metadata": {
    "ExecuteTime": {
     "end_time": "2025-02-26T19:59:51.763082Z",
     "start_time": "2025-02-26T19:59:49.104171Z"
    }
   },
   "cell_type": "code",
   "source": "encoder = SentenceTransformer('all-MiniLM-L6-v2')",
   "id": "a167aee73a1e4f2e",
   "outputs": [],
   "execution_count": 19
  },
  {
   "metadata": {
    "ExecuteTime": {
     "end_time": "2025-02-26T19:59:53.245524Z",
     "start_time": "2025-02-26T19:59:53.240556Z"
    }
   },
   "cell_type": "code",
   "source": "qdrant = QdrantClient(':memory:')",
   "id": "44a2faa8f56c3f6e",
   "outputs": [],
   "execution_count": 20
  },
  {
   "metadata": {
    "ExecuteTime": {
     "end_time": "2025-02-26T19:59:55.917989Z",
     "start_time": "2025-02-26T19:59:55.915281Z"
    }
   },
   "cell_type": "code",
   "source": [
    "if not qdrant.collection_exists(collection_name=\"top_wines\"):\n",
    "    qdrant.create_collection(collection_name=\"top_wines\",\n",
    "                                   vectors_config=models.VectorParams(\n",
    "                                       size=encoder.get_sentence_embedding_dimension(),\n",
    "                                       distance=models.Distance.COSINE\n",
    "                                   )\n",
    "                               )"
   ],
   "id": "78bf071cde798415",
   "outputs": [],
   "execution_count": 21
  },
  {
   "metadata": {
    "ExecuteTime": {
     "end_time": "2025-02-26T20:06:14.007269Z",
     "start_time": "2025-02-26T20:06:13.985364Z"
    }
   },
   "cell_type": "code",
   "source": [
    "hits = qdrant.search(\n",
    "    collection_name=\"top_wines\",\n",
    "    query_vector=encoder.encode(\"99 points Cabernet Sauvignon from Napa Valley\").tolist(),\n",
    "    limit=3\n",
    ")\n",
    "for hit in hits:\n",
    "    print(hit.payload,\"score:\",hit.score)"
   ],
   "id": "a1f076d11c9e2481",
   "outputs": [
    {
     "name": "stdout",
     "output_type": "stream",
     "text": [
      "{'name': 'Kapcsandy Family Winery State Lane Cabernet Sauvignon Grand Vin 2017', 'region': 'Yountville, Napa Valley, California', 'variety': 'Red Wine', 'rating': 96.0, 'notes': '100% Cabernet Sauvignon'} score: 0.7492028243635579\n",
      "{'name': 'Lewis Cellars Cabernet Sauvignon 2002', 'region': 'Napa Valley, California', 'variety': 'Red Wine', 'rating': 96.0, 'notes': 'Showcasing the unique personalities of small hillside vineyards from Pritchard Hill, Oakville and Rutherford, the 2002 Napa Valley Cabernet delivers compelling aromas of mocha, ripe berries, tobacco and sweet oak spice. The wine is 100% Cabernet Sauvignon, complex, rich and focused. With a deep core of black fruit and traces of briar and vanilla, it turns chocolaty and long on the palate with serious, integrated tannins.'} score: 0.7331373750716703\n",
      "{'name': 'Anakota Helena Montana Vineyard Cabernet Sauvignon 2013', 'region': 'Knights Valley, Sonoma County, California', 'variety': 'Red Wine', 'rating': 96.0, 'notes': 'Blend: 100% Cabernet Sauvignon'} score: 0.7289793892151267\n"
     ]
    },
    {
     "name": "stderr",
     "output_type": "stream",
     "text": [
      "C:\\Users\\surko\\AppData\\Local\\Temp\\ipykernel_14788\\1016869942.py:1: DeprecationWarning: `search` method is deprecated and will be removed in the future. Use `query_points` instead.\n",
      "  hits = qdrant.search(\n"
     ]
    }
   ],
   "execution_count": 26
  }
 ],
 "metadata": {
  "kernelspec": {
   "display_name": "Python 3",
   "language": "python",
   "name": "python3"
  },
  "language_info": {
   "codemirror_mode": {
    "name": "ipython",
    "version": 2
   },
   "file_extension": ".py",
   "mimetype": "text/x-python",
   "name": "python",
   "nbconvert_exporter": "python",
   "pygments_lexer": "ipython2",
   "version": "2.7.6"
  }
 },
 "nbformat": 4,
 "nbformat_minor": 5
}
